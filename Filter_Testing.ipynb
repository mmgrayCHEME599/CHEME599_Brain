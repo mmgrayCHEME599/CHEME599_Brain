{
  "nbformat": 4,
  "nbformat_minor": 0,
  "metadata": {
    "colab": {
      "name": "Filter Testing.ipynb",
      "provenance": []
    },
    "kernelspec": {
      "name": "python3",
      "display_name": "Python 3"
    },
    "language_info": {
      "name": "python"
    }
  },
  "cells": [
    {
      "cell_type": "markdown",
      "metadata": {
        "id": "RpaIq2He9qUM"
      },
      "source": [
        "The goal of this pre-processing file is to determine what filter and parameters are most likely to make it easier to segment the dataset"
      ]
    },
    {
      "cell_type": "code",
      "metadata": {
        "id": "lUof-_EI92Ht"
      },
      "source": [
        "import numpy as np\n",
        "import skimage as sk"
      ],
      "execution_count": 3,
      "outputs": []
    }
  ]
}